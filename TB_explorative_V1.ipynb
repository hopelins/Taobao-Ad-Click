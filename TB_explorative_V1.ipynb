{
 "cells": [
  {
   "cell_type": "code",
   "execution_count": 3,
   "metadata": {
    "collapsed": true
   },
   "outputs": [],
   "source": [
    "import numpy as np\n",
    "import pandas as pd\n",
    "from datetime import datetime\n",
    "import pytz\n",
    "cst = pytz.timezone('Asia/Shanghai')\n",
    "utc = pytz.utc"
   ]
  },
  {
   "cell_type": "code",
   "execution_count": 4,
   "metadata": {
    "collapsed": true
   },
   "outputs": [],
   "source": [
    "# %matplotlib inline\n",
    "import matplotlib\n",
    "import matplotlib.pyplot as plt\n",
    "import seaborn as sns\n",
    "sns.set()\n",
    "matplotlib.rcParams['figure.dpi'] = 120"
   ]
  },
  {
   "cell_type": "markdown",
   "metadata": {},
   "source": [
    "# 1. data"
   ]
  },
  {
   "cell_type": "markdown",
   "metadata": {},
   "source": [
    "## 1.1.  Ad features\n",
    "1. adgroup_id：**Ad ID**(int) ;\n",
    "2. cate_id：category ID;\n",
    "3. campaign_id：campaign ID;\n",
    "4. brand：brand ID;\n",
    "5. customer_id: Advertiser ID;\n",
    "6. price: the price of item\n"
   ]
  },
  {
   "cell_type": "code",
   "execution_count": 5,
   "metadata": {
    "collapsed": true
   },
   "outputs": [],
   "source": [
    "feature_df = pd.read_csv('data/ad_feature.csv')"
   ]
  },
  {
   "cell_type": "code",
   "execution_count": 6,
   "metadata": {},
   "outputs": [
    {
     "data": {
      "text/html": [
       "<div>\n",
       "<style scoped>\n",
       "    .dataframe tbody tr th:only-of-type {\n",
       "        vertical-align: middle;\n",
       "    }\n",
       "\n",
       "    .dataframe tbody tr th {\n",
       "        vertical-align: top;\n",
       "    }\n",
       "\n",
       "    .dataframe thead th {\n",
       "        text-align: right;\n",
       "    }\n",
       "</style>\n",
       "<table border=\"1\" class=\"dataframe\">\n",
       "  <thead>\n",
       "    <tr style=\"text-align: right;\">\n",
       "      <th></th>\n",
       "      <th>adgroup_id</th>\n",
       "      <th>cate_id</th>\n",
       "      <th>campaign_id</th>\n",
       "      <th>customer</th>\n",
       "      <th>brand</th>\n",
       "      <th>price</th>\n",
       "    </tr>\n",
       "  </thead>\n",
       "  <tbody>\n",
       "    <tr>\n",
       "      <th>0</th>\n",
       "      <td>63133</td>\n",
       "      <td>6406</td>\n",
       "      <td>83237</td>\n",
       "      <td>1</td>\n",
       "      <td>95471.0</td>\n",
       "      <td>170.0</td>\n",
       "    </tr>\n",
       "    <tr>\n",
       "      <th>1</th>\n",
       "      <td>313401</td>\n",
       "      <td>6406</td>\n",
       "      <td>83237</td>\n",
       "      <td>1</td>\n",
       "      <td>87331.0</td>\n",
       "      <td>199.0</td>\n",
       "    </tr>\n",
       "  </tbody>\n",
       "</table>\n",
       "</div>"
      ],
      "text/plain": [
       "   adgroup_id  cate_id  campaign_id  customer    brand  price\n",
       "0       63133     6406        83237         1  95471.0  170.0\n",
       "1      313401     6406        83237         1  87331.0  199.0"
      ]
     },
     "execution_count": 6,
     "metadata": {},
     "output_type": "execute_result"
    }
   ],
   "source": [
    "feature_df.head(2)"
   ]
  },
  {
   "cell_type": "code",
   "execution_count": 7,
   "metadata": {},
   "outputs": [
    {
     "name": "stdout",
     "output_type": "stream",
     "text": [
      "Ads: 846811\n",
      "Categories: 6769\n",
      "campaigns: 423436\n",
      "Advertisers : 255875\n",
      "Brands : 99814\n"
     ]
    }
   ],
   "source": [
    "print( 'Ads: %d' % len(feature_df))\n",
    "print( 'Categories: %d' % feature_df['cate_id'].nunique())\n",
    "print( 'campaigns: %d' % feature_df['campaign_id'].nunique())\n",
    "print( 'Advertisers : %d' % feature_df['customer'].nunique())\n",
    "print( 'Brands : %d' % feature_df['brand'].nunique())"
   ]
  },
  {
   "cell_type": "markdown",
   "metadata": {},
   "source": [
    "## 1.2. User data"
   ]
  },
  {
   "cell_type": "markdown",
   "metadata": {},
   "source": [
    "### 1.2.1 User features\n",
    "1. userid: user ID;\n",
    "2. cms_segid: Micro group ID;\n",
    "3. cms_group_id: cms_group_id;\n",
    "4. final_gender_code: gender 1 for male , 2 for female\n",
    "5. age_level: age_level\n",
    "6. pvalue_level: Consumption grade, 1: low,  2: mid,  3: high\n",
    "7. shopping_level: Shopping depth, 1: shallow user, 2: moderate user, 3: depth user\n",
    "8. occupation: Is the college student 1: yes, 0: no?\n",
    "9. new_user_class_level: City level"
   ]
  },
  {
   "cell_type": "code",
   "execution_count": 8,
   "metadata": {
    "collapsed": true
   },
   "outputs": [],
   "source": [
    "user_df = pd.read_csv('data/user_profile.csv')"
   ]
  },
  {
   "cell_type": "code",
   "execution_count": 9,
   "metadata": {},
   "outputs": [
    {
     "data": {
      "text/html": [
       "<div>\n",
       "<style scoped>\n",
       "    .dataframe tbody tr th:only-of-type {\n",
       "        vertical-align: middle;\n",
       "    }\n",
       "\n",
       "    .dataframe tbody tr th {\n",
       "        vertical-align: top;\n",
       "    }\n",
       "\n",
       "    .dataframe thead th {\n",
       "        text-align: right;\n",
       "    }\n",
       "</style>\n",
       "<table border=\"1\" class=\"dataframe\">\n",
       "  <thead>\n",
       "    <tr style=\"text-align: right;\">\n",
       "      <th></th>\n",
       "      <th>userid</th>\n",
       "      <th>cms_segid</th>\n",
       "      <th>cms_group_id</th>\n",
       "      <th>final_gender_code</th>\n",
       "      <th>age_level</th>\n",
       "      <th>pvalue_level</th>\n",
       "      <th>shopping_level</th>\n",
       "      <th>occupation</th>\n",
       "      <th>new_user_class_level</th>\n",
       "    </tr>\n",
       "  </thead>\n",
       "  <tbody>\n",
       "    <tr>\n",
       "      <th>0</th>\n",
       "      <td>234</td>\n",
       "      <td>0</td>\n",
       "      <td>5</td>\n",
       "      <td>2</td>\n",
       "      <td>5</td>\n",
       "      <td>NaN</td>\n",
       "      <td>3</td>\n",
       "      <td>0</td>\n",
       "      <td>3.0</td>\n",
       "    </tr>\n",
       "    <tr>\n",
       "      <th>1</th>\n",
       "      <td>523</td>\n",
       "      <td>5</td>\n",
       "      <td>2</td>\n",
       "      <td>2</td>\n",
       "      <td>2</td>\n",
       "      <td>1.0</td>\n",
       "      <td>3</td>\n",
       "      <td>1</td>\n",
       "      <td>2.0</td>\n",
       "    </tr>\n",
       "  </tbody>\n",
       "</table>\n",
       "</div>"
      ],
      "text/plain": [
       "   userid  cms_segid  cms_group_id  final_gender_code  age_level  \\\n",
       "0     234          0             5                  2          5   \n",
       "1     523          5             2                  2          2   \n",
       "\n",
       "   pvalue_level  shopping_level  occupation  new_user_class_level   \n",
       "0           NaN               3           0                    3.0  \n",
       "1           1.0               3           1                    2.0  "
      ]
     },
     "execution_count": 9,
     "metadata": {},
     "output_type": "execute_result"
    }
   ],
   "source": [
    "user_df.head(2)"
   ]
  },
  {
   "cell_type": "markdown",
   "metadata": {},
   "source": [
    "### 1.2.2 User behavior\n",
    "\n",
    "#### (Can be engineered into features)\n",
    "\n",
    "* ipv: browse\n",
    "* cart: add to the shopping cart\n",
    "* fav:favor\n",
    "* buy:buy\n",
    "\n",
    "**Commented out before we are using this data set**\n"
   ]
  },
  {
   "cell_type": "code",
   "execution_count": 10,
   "metadata": {
    "collapsed": true
   },
   "outputs": [],
   "source": [
    "# behave_df = pd.read_csv('data/behavior_log_5m.csv')"
   ]
  },
  {
   "cell_type": "markdown",
   "metadata": {},
   "source": [
    "#### Convert time zone\n",
    "\n",
    "(Bigint, 1494032110 stands for 2017-05-06 08:55:10); validated by the line below"
   ]
  },
  {
   "cell_type": "code",
   "execution_count": 11,
   "metadata": {
    "collapsed": true
   },
   "outputs": [],
   "source": [
    "# utc.localize(datetime.utcfromtimestamp(1494032110)).astimezone(cst)"
   ]
  },
  {
   "cell_type": "code",
   "execution_count": 12,
   "metadata": {
    "collapsed": true
   },
   "outputs": [],
   "source": [
    "# behave_df['time_CST'] = behave_df['time_stamp']\\\n",
    "#                         .apply(lambda x: utc.localize(datetime.utcfromtimestamp(x)).astimezone(cst))"
   ]
  },
  {
   "cell_type": "code",
   "execution_count": 13,
   "metadata": {},
   "outputs": [
    {
     "data": {
      "text/html": [
       "<div>\n",
       "<style scoped>\n",
       "    .dataframe tbody tr th:only-of-type {\n",
       "        vertical-align: middle;\n",
       "    }\n",
       "\n",
       "    .dataframe tbody tr th {\n",
       "        vertical-align: top;\n",
       "    }\n",
       "\n",
       "    .dataframe thead th {\n",
       "        text-align: right;\n",
       "    }\n",
       "</style>\n",
       "<table border=\"1\" class=\"dataframe\">\n",
       "  <thead>\n",
       "    <tr style=\"text-align: right;\">\n",
       "      <th></th>\n",
       "      <th>user</th>\n",
       "      <th>time_stamp</th>\n",
       "      <th>btag</th>\n",
       "      <th>cate</th>\n",
       "      <th>brand</th>\n",
       "      <th>time_CST</th>\n",
       "    </tr>\n",
       "  </thead>\n",
       "  <tbody>\n",
       "    <tr>\n",
       "      <th>0</th>\n",
       "      <td>558157</td>\n",
       "      <td>1493741625</td>\n",
       "      <td>pv</td>\n",
       "      <td>6250</td>\n",
       "      <td>91286</td>\n",
       "      <td>2017-05-03 00:13:45+08:00</td>\n",
       "    </tr>\n",
       "    <tr>\n",
       "      <th>1</th>\n",
       "      <td>558157</td>\n",
       "      <td>1493741626</td>\n",
       "      <td>pv</td>\n",
       "      <td>6250</td>\n",
       "      <td>91286</td>\n",
       "      <td>2017-05-03 00:13:46+08:00</td>\n",
       "    </tr>\n",
       "  </tbody>\n",
       "</table>\n",
       "</div>"
      ],
      "text/plain": [
       "     user  time_stamp btag  cate  brand                  time_CST\n",
       "0  558157  1493741625   pv  6250  91286 2017-05-03 00:13:45+08:00\n",
       "1  558157  1493741626   pv  6250  91286 2017-05-03 00:13:46+08:00"
      ]
     },
     "execution_count": 13,
     "metadata": {},
     "output_type": "execute_result"
    }
   ],
   "source": [
    "# behave_df.head(2)"
   ]
  },
  {
   "cell_type": "code",
   "execution_count": 14,
   "metadata": {},
   "outputs": [
    {
     "name": "stdout",
     "output_type": "stream",
     "text": [
      "Users: 1061768\n",
      "Number of Behavior Data: 4999999\n"
     ]
    }
   ],
   "source": [
    "print( 'Users: %d' % len(user_df))\n",
    "print( 'Number of Behavior Data: %d' % len(behave_df))"
   ]
  },
  {
   "cell_type": "markdown",
   "metadata": {},
   "source": [
    "## 1.3 raw click-not click data (\"label\")\n",
    "1. user: User ID(int);\n",
    "2. time_stamp: time stamp(Bigint, 1494032110 stands for 2017-05-06 08:55:10);\n",
    "3. adgroup_id: adgroup ID(int);\n",
    "4. pid: scenario;\n",
    "5. noclk: 1 for not click, 0 for click;\n",
    "6. clk: 1 for click, 0 for not click;\n"
   ]
  },
  {
   "cell_type": "code",
   "execution_count": 15,
   "metadata": {
    "collapsed": true
   },
   "outputs": [],
   "source": [
    "raw_df = pd.read_csv('data/raw_sample_2m.csv')"
   ]
  },
  {
   "cell_type": "code",
   "execution_count": 16,
   "metadata": {
    "collapsed": true
   },
   "outputs": [],
   "source": [
    "raw_df['time_CST'] = raw_df['time_stamp']\\\n",
    "                        .apply(lambda x: utc.localize(datetime.utcfromtimestamp(x)).astimezone(cst))"
   ]
  },
  {
   "cell_type": "code",
   "execution_count": 17,
   "metadata": {},
   "outputs": [
    {
     "data": {
      "text/html": [
       "<div>\n",
       "<style scoped>\n",
       "    .dataframe tbody tr th:only-of-type {\n",
       "        vertical-align: middle;\n",
       "    }\n",
       "\n",
       "    .dataframe tbody tr th {\n",
       "        vertical-align: top;\n",
       "    }\n",
       "\n",
       "    .dataframe thead th {\n",
       "        text-align: right;\n",
       "    }\n",
       "</style>\n",
       "<table border=\"1\" class=\"dataframe\">\n",
       "  <thead>\n",
       "    <tr style=\"text-align: right;\">\n",
       "      <th></th>\n",
       "      <th>user</th>\n",
       "      <th>time_stamp</th>\n",
       "      <th>adgroup_id</th>\n",
       "      <th>pid</th>\n",
       "      <th>nonclk</th>\n",
       "      <th>clk</th>\n",
       "      <th>time_CST</th>\n",
       "    </tr>\n",
       "  </thead>\n",
       "  <tbody>\n",
       "    <tr>\n",
       "      <th>101522</th>\n",
       "      <td>874257</td>\n",
       "      <td>1494000000</td>\n",
       "      <td>27032</td>\n",
       "      <td>430548_1007</td>\n",
       "      <td>1</td>\n",
       "      <td>0</td>\n",
       "      <td>2017-05-06 00:00:00+08:00</td>\n",
       "    </tr>\n",
       "    <tr>\n",
       "      <th>237305</th>\n",
       "      <td>874257</td>\n",
       "      <td>1494000000</td>\n",
       "      <td>54756</td>\n",
       "      <td>430548_1007</td>\n",
       "      <td>1</td>\n",
       "      <td>0</td>\n",
       "      <td>2017-05-06 00:00:00+08:00</td>\n",
       "    </tr>\n",
       "  </tbody>\n",
       "</table>\n",
       "</div>"
      ],
      "text/plain": [
       "          user  time_stamp  adgroup_id          pid  nonclk  clk  \\\n",
       "101522  874257  1494000000       27032  430548_1007       1    0   \n",
       "237305  874257  1494000000       54756  430548_1007       1    0   \n",
       "\n",
       "                        time_CST  \n",
       "101522 2017-05-06 00:00:00+08:00  \n",
       "237305 2017-05-06 00:00:00+08:00  "
      ]
     },
     "execution_count": 17,
     "metadata": {},
     "output_type": "execute_result"
    }
   ],
   "source": [
    "raw_df.sort_values('time_stamp').head(2)"
   ]
  },
  {
   "cell_type": "code",
   "execution_count": 18,
   "metadata": {},
   "outputs": [
    {
     "name": "stdout",
     "output_type": "stream",
     "text": [
      "Total number of Data: 1999999\n"
     ]
    }
   ],
   "source": [
    "print( 'Total number of Data: %d' % len(raw_df))"
   ]
  },
  {
   "cell_type": "markdown",
   "metadata": {},
   "source": [
    "# 2. Before ML: Data overview"
   ]
  },
  {
   "cell_type": "markdown",
   "metadata": {},
   "source": [
    "## 2.2 Overall click ratio "
   ]
  },
  {
   "cell_type": "code",
   "execution_count": 19,
   "metadata": {},
   "outputs": [
    {
     "name": "stdout",
     "output_type": "stream",
     "text": [
      "Only bout 4.96% results are \"click\"\n"
     ]
    }
   ],
   "source": [
    "ratio = sum(raw_df['clk'])/len(raw_df)\n",
    "print('Only bout {:.2f}% results are \"click\"'.format(ratio*100))"
   ]
  },
  {
   "cell_type": "markdown",
   "metadata": {},
   "source": [
    "The result/labels are very unbalences: that means accuracy is not a good measure of model performance.\n",
    "\n",
    "We should keep track of **precision & recall** instead."
   ]
  },
  {
   "cell_type": "markdown",
   "metadata": {},
   "source": [
    "## 2.3 Validate some intuition\n",
    "\n",
    "brainstorm: \n",
    "* Target demography differ among categories (gender, age)\n",
    "* Price/brand related to income (and related to city level, occupation,...); but category specific\n",
    "* Users acted on similar item (category, brand) more likely to click"
   ]
  },
  {
   "cell_type": "code",
   "execution_count": 20,
   "metadata": {},
   "outputs": [
    {
     "data": {
      "text/html": [
       "<div>\n",
       "<style scoped>\n",
       "    .dataframe tbody tr th:only-of-type {\n",
       "        vertical-align: middle;\n",
       "    }\n",
       "\n",
       "    .dataframe tbody tr th {\n",
       "        vertical-align: top;\n",
       "    }\n",
       "\n",
       "    .dataframe thead th {\n",
       "        text-align: right;\n",
       "    }\n",
       "</style>\n",
       "<table border=\"1\" class=\"dataframe\">\n",
       "  <thead>\n",
       "    <tr style=\"text-align: right;\">\n",
       "      <th></th>\n",
       "      <th>user</th>\n",
       "      <th>time_stamp</th>\n",
       "      <th>adgroup_id</th>\n",
       "      <th>pid</th>\n",
       "      <th>nonclk</th>\n",
       "      <th>clk</th>\n",
       "      <th>time_CST</th>\n",
       "    </tr>\n",
       "  </thead>\n",
       "  <tbody>\n",
       "    <tr>\n",
       "      <th>1999997</th>\n",
       "      <td>234920</td>\n",
       "      <td>1494323637</td>\n",
       "      <td>326271</td>\n",
       "      <td>430548_1007</td>\n",
       "      <td>1</td>\n",
       "      <td>0</td>\n",
       "      <td>2017-05-09 17:53:57+08:00</td>\n",
       "    </tr>\n",
       "    <tr>\n",
       "      <th>1999998</th>\n",
       "      <td>68014</td>\n",
       "      <td>1494674768</td>\n",
       "      <td>326271</td>\n",
       "      <td>430548_1007</td>\n",
       "      <td>1</td>\n",
       "      <td>0</td>\n",
       "      <td>2017-05-13 19:26:08+08:00</td>\n",
       "    </tr>\n",
       "  </tbody>\n",
       "</table>\n",
       "</div>"
      ],
      "text/plain": [
       "           user  time_stamp  adgroup_id          pid  nonclk  clk  \\\n",
       "1999997  234920  1494323637      326271  430548_1007       1    0   \n",
       "1999998   68014  1494674768      326271  430548_1007       1    0   \n",
       "\n",
       "                         time_CST  \n",
       "1999997 2017-05-09 17:53:57+08:00  \n",
       "1999998 2017-05-13 19:26:08+08:00  "
      ]
     },
     "execution_count": 20,
     "metadata": {},
     "output_type": "execute_result"
    }
   ],
   "source": [
    "raw_df.tail(2) \n",
    "# feature_df[feature_df['brand'] == 32233].tail() \n",
    "# look at demographic profile on ad #197055"
   ]
  },
  {
   "cell_type": "code",
   "execution_count": 75,
   "metadata": {},
   "outputs": [],
   "source": [
    "# feature_df.columns\n"
   ]
  },
  {
   "cell_type": "code",
   "execution_count": 76,
   "metadata": {},
   "outputs": [],
   "source": [
    "# user_df.columns"
   ]
  },
  {
   "cell_type": "code",
   "execution_count": 23,
   "metadata": {
    "collapsed": true
   },
   "outputs": [],
   "source": [
    "# one-hot encoding\n",
    "user_df_oh = pd.get_dummies(user_df[['userid','final_gender_code','age_level','shopping_level', 'occupation','new_user_class_level ']]\\\n",
    "                            , columns =['final_gender_code','age_level','shopping_level', 'occupation','new_user_class_level ']\n",
    "                            , prefix=['gender','age','shopping', 'student','city'])"
   ]
  },
  {
   "cell_type": "code",
   "execution_count": 24,
   "metadata": {
    "collapsed": true
   },
   "outputs": [],
   "source": [
    "raw_joined = raw_df.join(user_df_oh.set_index('userid'), on='user')\\\n",
    "                   .join(feature_df[['adgroup_id', 'cate_id', 'brand', 'price']].set_index('adgroup_id'), on='adgroup_id')"
   ]
  },
  {
   "cell_type": "code",
   "execution_count": 25,
   "metadata": {
    "collapsed": true
   },
   "outputs": [],
   "source": [
    "f =  {'user':['count'], 'gender_1':['sum'], 'age_1':['sum'], 'age_2':['sum'], 'age_3':['sum'], 'age_4':['sum'],\\\n",
    "       'age_5':['sum'], 'age_6':['sum'], 'shopping_2':['sum'], 'shopping_3':['sum'] ,'student_1':['sum'],\\\n",
    "      'city_2.0':['sum'], 'city_3.0':['sum'], 'city_4.0':['sum']}\n",
    "    \n",
    "# devices_report = trips_report.groupby('device_id').agg(f)"
   ]
  },
  {
   "cell_type": "code",
   "execution_count": 71,
   "metadata": {
    "collapsed": true
   },
   "outputs": [],
   "source": [
    "raw_by_brand_all = raw_joined.groupby(['brand']).agg(f)\n",
    "raw_by_brand = raw_joined.groupby(['brand', 'clk']).agg(f)\n",
    "raw_by_brand.columns = raw_by_brand.columns.get_level_values(0)\n",
    "raw_by_brand_all.columns = raw_by_brand.columns.get_level_values(0)\n",
    "raw_by_brand.reset_index(inplace =True)"
   ]
  },
  {
   "cell_type": "code",
   "execution_count": 73,
   "metadata": {},
   "outputs": [
    {
     "data": {
      "text/plain": [
       "brand\n",
       "18557.0     3771\n",
       "58915.0     4438\n",
       "88078.0     3113\n",
       "188059.0    3409\n",
       "206372.0    3070\n",
       "Name: user, dtype: int64"
      ]
     },
     "execution_count": 73,
     "metadata": {},
     "output_type": "execute_result"
    }
   ],
   "source": [
    "raw_by_brand_all[raw_by_brand_all['user']> 3000].head()['user']"
   ]
  },
  {
   "cell_type": "code",
   "execution_count": 56,
   "metadata": {},
   "outputs": [],
   "source": [
    "## raw_by_brand_all not used anymore\n",
    "# del raw_by_brand_all"
   ]
  },
  {
   "cell_type": "code",
   "execution_count": 59,
   "metadata": {},
   "outputs": [],
   "source": [
    "raw_by_cat_all = raw_joined.groupby(['cate_id']).agg(f)\n",
    "raw_by_cat = raw_joined.groupby(['cate_id', 'clk']).agg(f)\n",
    "raw_by_cat.columns = raw_by_cat.columns.get_level_values(0)\n",
    "raw_by_cat_all.columns = raw_by_cat.columns.get_level_values(0)\n",
    "raw_by_cat.reset_index(inplace =True)"
   ]
  },
  {
   "cell_type": "code",
   "execution_count": 61,
   "metadata": {},
   "outputs": [
    {
     "data": {
      "text/html": [
       "<div>\n",
       "<style scoped>\n",
       "    .dataframe tbody tr th:only-of-type {\n",
       "        vertical-align: middle;\n",
       "    }\n",
       "\n",
       "    .dataframe tbody tr th {\n",
       "        vertical-align: top;\n",
       "    }\n",
       "\n",
       "    .dataframe thead th {\n",
       "        text-align: right;\n",
       "    }\n",
       "</style>\n",
       "<table border=\"1\" class=\"dataframe\">\n",
       "  <thead>\n",
       "    <tr style=\"text-align: right;\">\n",
       "      <th></th>\n",
       "      <th>cate_id</th>\n",
       "      <th>clk</th>\n",
       "      <th>age_6</th>\n",
       "      <th>user</th>\n",
       "      <th>age_4</th>\n",
       "      <th>shopping_3</th>\n",
       "      <th>city_2.0</th>\n",
       "      <th>city_4.0</th>\n",
       "      <th>age_2</th>\n",
       "      <th>shopping_2</th>\n",
       "      <th>gender_1</th>\n",
       "      <th>age_1</th>\n",
       "      <th>age_5</th>\n",
       "      <th>age_3</th>\n",
       "      <th>city_3.0</th>\n",
       "      <th>student_1</th>\n",
       "    </tr>\n",
       "  </thead>\n",
       "  <tbody>\n",
       "    <tr>\n",
       "      <th>0</th>\n",
       "      <td>1</td>\n",
       "      <td>0</td>\n",
       "      <td>45.0</td>\n",
       "      <td>3460</td>\n",
       "      <td>689.0</td>\n",
       "      <td>2572.0</td>\n",
       "      <td>977.0</td>\n",
       "      <td>426.0</td>\n",
       "      <td>920.0</td>\n",
       "      <td>410.0</td>\n",
       "      <td>2499.0</td>\n",
       "      <td>367.0</td>\n",
       "      <td>511.0</td>\n",
       "      <td>717.0</td>\n",
       "      <td>486.0</td>\n",
       "      <td>327.0</td>\n",
       "    </tr>\n",
       "    <tr>\n",
       "      <th>1</th>\n",
       "      <td>1</td>\n",
       "      <td>1</td>\n",
       "      <td>7.0</td>\n",
       "      <td>225</td>\n",
       "      <td>43.0</td>\n",
       "      <td>154.0</td>\n",
       "      <td>70.0</td>\n",
       "      <td>22.0</td>\n",
       "      <td>62.0</td>\n",
       "      <td>33.0</td>\n",
       "      <td>163.0</td>\n",
       "      <td>33.0</td>\n",
       "      <td>33.0</td>\n",
       "      <td>37.0</td>\n",
       "      <td>26.0</td>\n",
       "      <td>22.0</td>\n",
       "    </tr>\n",
       "  </tbody>\n",
       "</table>\n",
       "</div>"
      ],
      "text/plain": [
       "   cate_id  clk  age_6  user  age_4  shopping_3  city_2.0  city_4.0  age_2  \\\n",
       "0        1    0   45.0  3460  689.0      2572.0     977.0     426.0  920.0   \n",
       "1        1    1    7.0   225   43.0       154.0      70.0      22.0   62.0   \n",
       "\n",
       "   shopping_2  gender_1  age_1  age_5  age_3  city_3.0  student_1  \n",
       "0       410.0    2499.0  367.0  511.0  717.0     486.0      327.0  \n",
       "1        33.0     163.0   33.0   33.0   37.0      26.0       22.0  "
      ]
     },
     "execution_count": 61,
     "metadata": {},
     "output_type": "execute_result"
    }
   ],
   "source": [
    "raw_by_cat.head(2)"
   ]
  },
  {
   "cell_type": "code",
   "execution_count": 64,
   "metadata": {},
   "outputs": [
    {
     "data": {
      "text/plain": [
       "Int64Index([1, 45, 123, 492, 531], dtype='int64', name='cate_id')"
      ]
     },
     "execution_count": 64,
     "metadata": {},
     "output_type": "execute_result"
    }
   ],
   "source": [
    "raw_by_cat_all[raw_by_cat_all['user']> 3000].head().index"
   ]
  },
  {
   "cell_type": "code",
   "execution_count": 29,
   "metadata": {
    "collapsed": true
   },
   "outputs": [],
   "source": [
    "# temp = raw_by_brand[raw_by_brand['brand'] == 188059].copy()"
   ]
  },
  {
   "cell_type": "code",
   "execution_count": 30,
   "metadata": {
    "collapsed": true
   },
   "outputs": [],
   "source": [
    "# cols = ['city_2.0', 'city_3.0', 'age_3','age_4', 'gender_1', 'student_1', 'age_5', 'age_1', 'age_2', 'city_4.0',\n",
    "#        'age_6', 'shopping_3', 'shopping_2']\n",
    "# for col in cols:\n",
    "#     temp[col +'_ratio'] = temp[col]/ temp['user']"
   ]
  },
  {
   "cell_type": "code",
   "execution_count": 62,
   "metadata": {},
   "outputs": [],
   "source": [
    "def prep_brand_data(brand, raw_df):\n",
    "    temp = raw_df[raw_df['brand'] == brand].copy()\n",
    "    cols = ['city_2.0', 'city_3.0', 'age_3','age_4', 'gender_1', 'student_1', 'age_5', 'age_1', 'age_2', 'city_4.0',\\\n",
    "       'age_6', 'shopping_3', 'shopping_2']\n",
    "    for col in cols:\n",
    "        temp[col +'_ratio'] = temp[col]/ temp['user']\n",
    "    return temp\n",
    "def prep_cat_data(cat, raw_df):\n",
    "    temp = raw_df[raw_df['cate_id'] == cat].copy()\n",
    "    cols = ['city_2.0', 'city_3.0', 'age_3','age_4', 'gender_1', 'student_1', 'age_5', 'age_1', 'age_2', 'city_4.0',\\\n",
    "       'age_6', 'shopping_3', 'shopping_2']\n",
    "    for col in cols:\n",
    "        temp[col +'_ratio'] = temp[col]/ temp['user']\n",
    "    return temp"
   ]
  },
  {
   "cell_type": "markdown",
   "metadata": {},
   "source": [
    "## Vis"
   ]
  },
  {
   "cell_type": "code",
   "execution_count": 66,
   "metadata": {},
   "outputs": [],
   "source": [
    "def graph_sub_data(temp):\n",
    "    fig, axes = plt.subplots(ncols=3, nrows=2)\n",
    "    w = 0.25\n",
    "    ax = axes[0][0]\n",
    "    Y = [i[0] for i in temp[['gender_1_ratio']].values]\n",
    "    X = [0]\n",
    "    rects1 = ax.bar(X, Y[0],width = w,   color='SkyBlue',label='not click')\n",
    "    rects1 = ax.bar(X[0]+0.25, Y[1], width = w,  color='IndianRed', label='click')\n",
    "    ax.set_xticks([])\n",
    "    ax.set_title('Gender')\n",
    "\n",
    "    ax = axes[0][1]\n",
    "    Y = [i[0] for i in temp[['student_1_ratio']].values]\n",
    "    rects1 = ax.bar(X, Y[0],width = w,   color='SkyBlue',label='not click')\n",
    "    rects1 = ax.bar(X[0]+0.25, Y[1], width = w,  color='IndianRed', label='click')\n",
    "    ax.set_title('Student')\n",
    "    ax.set_xticks([])\n",
    "\n",
    "\n",
    "    ax = axes[0][2]\n",
    "    X = [0, 1]\n",
    "    Ys = temp[['shopping_2_ratio', 'shopping_3_ratio']].values\n",
    "    rects1 = ax.bar(X, [i for i in Ys[0]], width = w, color='SkyBlue', label='not click')\n",
    "    rects2 = ax.bar([x + 0.25 for x in X] , [i for i in Ys[1]],width = 0.25, color='IndianRed', label='click')\n",
    "    ax.set_xticks([0,1])\n",
    "    ax.set_xticklabels(['L2', 'L3'])\n",
    "    ax.set_title('Shopping level')\n",
    "\n",
    "    ax = axes[1][0]\n",
    "    X = [0, 1,2,3,4,5]\n",
    "    Ys = temp[['age_1_ratio', 'age_2_ratio','age_3_ratio','age_4_ratio','age_5_ratio','age_6_ratio']].values\n",
    "    rects1 = ax.bar(X, [i for i in Ys[0]], width = w, color='SkyBlue', label='not click')\n",
    "    rects2 = ax.bar([x + 0.25 for x in X] , [i for i in Ys[1]],width = 0.25, color='IndianRed', label='click')\n",
    "    ax.set_xticks(X)\n",
    "    ax.set_xticklabels(['1', '2','3','4','5','6'])\n",
    "    ax.set_title('Age level')\n",
    "\n",
    "    ax = axes[1][1]\n",
    "    X = [0, 1,2]\n",
    "    Ys = temp[['city_2.0_ratio','city_3.0_ratio','city_4.0_ratio' ]].values\n",
    "    rects1 = ax.bar(X, [i for i in Ys[0]], width = w, color='SkyBlue', label='not click')\n",
    "    rects2 = ax.bar([x + 0.25 for x in X] , [i for i in Ys[1]],width = 0.25, color='IndianRed', label='click')\n",
    "    ax.set_xticks(X)\n",
    "    ax.set_xticklabels([ '2','3','4'])\n",
    "    ax.set_title('City level')\n",
    "\n",
    "    ax = axes[1][2]\n",
    "    X = [0, 0]\n",
    "    rects1 = ax.bar(X, X, width = w, color='SkyBlue', label='not click')\n",
    "    rects2 = ax.bar(X, X, color='IndianRed', label='click')\n",
    "    ax.set_axis_off()\n",
    "    ax.legend()\n",
    "    ax.set_title('Legend')\n",
    "\n",
    "    plt.tight_layout(pad=0.4, w_pad=0.5, h_pad=1.0)\n",
    "    return fig\n",
    "# fig.suptitle('Brand: ' + str(188059) + '\\n\\n' )\n",
    "# plt.show()"
   ]
  },
  {
   "cell_type": "code",
   "execution_count": 46,
   "metadata": {},
   "outputs": [
    {
     "data": {
      "image/png": "[encoded data removed]",
      "text/plain": [
       "<matplotlib.figure.Figure at 0x1165bd7b8>"
      ]
     },
     "metadata": {},
     "output_type": "display_data"
    }
   ],
   "source": [
    "temp = prep_brand_data(brand=188059, raw_df=raw_by_brand) # 18557, 58915,88078, 206372\n",
    "plt.show(graph_sub_data(temp))"
   ]
  },
  {
   "cell_type": "code",
   "execution_count": 69,
   "metadata": {},
   "outputs": [
    {
     "data": {
      "image/png": "[encoded data removed]",
      "text/plain": [
       "<matplotlib.figure.Figure at 0x119d3eb70>"
      ]
     },
     "metadata": {},
     "output_type": "display_data"
    }
   ],
   "source": [
    "temp = prep_cat_data(cat=123, raw_df=raw_by_cat) # 1, 45, 123, 492, 531\n",
    "plt.show(graph_sub_data(temp))"
   ]
  },
  {
   "cell_type": "markdown",
   "metadata": {},
   "source": [
    "## Note: no obvious profile difference!!!???\n",
    "\n",
    "### We should use the behavior data"
   ]
  },
  {
   "cell_type": "code",
   "execution_count": null,
   "metadata": {
    "collapsed": true
   },
   "outputs": [],
   "source": []
  },
  {
   "cell_type": "code",
   "execution_count": null,
   "metadata": {
    "collapsed": true
   },
   "outputs": [],
   "source": []
  },
  {
   "cell_type": "code",
   "execution_count": null,
   "metadata": {
    "collapsed": true
   },
   "outputs": [],
   "source": []
  },
  {
   "cell_type": "code",
   "execution_count": null,
   "metadata": {
    "collapsed": true
   },
   "outputs": [],
   "source": []
  },
  {
   "cell_type": "markdown",
   "metadata": {},
   "source": [
    "## Below is work zone"
   ]
  },
  {
   "cell_type": "markdown",
   "metadata": {},
   "source": [
    "## How to do train-test split?\n"
   ]
  },
  {
   "cell_type": "code",
   "execution_count": 106,
   "metadata": {
    "collapsed": true
   },
   "outputs": [],
   "source": [
    "raw_df['datetime_cst'] =  raw_df['time_stamp'].apply(lambda x: utc.localize(datetime.utcfromtimestamp(x)).astimezone(cst))"
   ]
  },
  {
   "cell_type": "code",
   "execution_count": 107,
   "metadata": {
    "collapsed": true
   },
   "outputs": [],
   "source": []
  },
  {
   "cell_type": "code",
   "execution_count": 108,
   "metadata": {
    "collapsed": true
   },
   "outputs": [],
   "source": [
    "train =raw_df[raw_df['datetime_cst'] < utc.localize(datetime(2017, 5,11)).astimezone(cst)]\n",
    "test = raw_df[raw_df['datetime_cst'] >= utc.localize(datetime(2017, 5,11)).astimezone(cst)]"
   ]
  },
  {
   "cell_type": "code",
   "execution_count": 109,
   "metadata": {},
   "outputs": [
    {
     "data": {
      "text/plain": [
       "0.648022824011412"
      ]
     },
     "execution_count": 109,
     "metadata": {},
     "output_type": "execute_result"
    }
   ],
   "source": [
    "len(train)/len(raw_df)"
   ]
  },
  {
   "cell_type": "markdown",
   "metadata": {
    "collapsed": true
   },
   "source": [
    "## Model 1: demography + ad feature\n"
   ]
  },
  {
   "cell_type": "code",
   "execution_count": 92,
   "metadata": {},
   "outputs": [
    {
     "data": {
      "text/plain": [
       "Index(['user', 'time_stamp', 'adgroup_id', 'pid', 'nonclk', 'clk',\n",
       "       'datetime_cst'],\n",
       "      dtype='object')"
      ]
     },
     "execution_count": 92,
     "metadata": {},
     "output_type": "execute_result"
    }
   ],
   "source": [
    "train.columns"
   ]
  },
  {
   "cell_type": "code",
   "execution_count": 93,
   "metadata": {},
   "outputs": [
    {
     "data": {
      "text/plain": [
       "Index(['adgroup_id', 'cate_id', 'campaign_id', 'customer', 'brand', 'price'], dtype='object')"
      ]
     },
     "execution_count": 93,
     "metadata": {},
     "output_type": "execute_result"
    }
   ],
   "source": [
    "feature_df.columns"
   ]
  },
  {
   "cell_type": "code",
   "execution_count": 113,
   "metadata": {
    "collapsed": true
   },
   "outputs": [],
   "source": [
    "def grab_features_1(subset):\n",
    "    XY = subset[['user', 'adgroup_id', 'clk']]\\\n",
    "        .join(feature_df[['adgroup_id', 'cate_id', 'price']].set_index('adgroup_id'), on='adgroup_id')\n",
    "    XY = XY.join(user_df[['userid', 'final_gender_code', 'age_level','occupation']].set_index('userid'), on='user')\n",
    "    XY.drop(['user','adgroup_id'], axis=1, inplace=True)\n",
    "    return XY"
   ]
  },
  {
   "cell_type": "code",
   "execution_count": 114,
   "metadata": {
    "collapsed": true
   },
   "outputs": [],
   "source": [
    "train_df= grab_features_1(train)\n",
    "test_df= grab_features_1(test)"
   ]
  },
  {
   "cell_type": "code",
   "execution_count": 117,
   "metadata": {
    "collapsed": true
   },
   "outputs": [],
   "source": [
    "train_df.dropna(inplace=True)\n",
    "test_df.dropna(inplace=True)"
   ]
  },
  {
   "cell_type": "code",
   "execution_count": 131,
   "metadata": {},
   "outputs": [
    {
     "data": {
      "text/html": [
       "<div>\n",
       "<style scoped>\n",
       "    .dataframe tbody tr th:only-of-type {\n",
       "        vertical-align: middle;\n",
       "    }\n",
       "\n",
       "    .dataframe tbody tr th {\n",
       "        vertical-align: top;\n",
       "    }\n",
       "\n",
       "    .dataframe thead th {\n",
       "        text-align: right;\n",
       "    }\n",
       "</style>\n",
       "<table border=\"1\" class=\"dataframe\">\n",
       "  <thead>\n",
       "    <tr style=\"text-align: right;\">\n",
       "      <th></th>\n",
       "      <th>cate_id</th>\n",
       "      <th>price</th>\n",
       "      <th>final_gender_code</th>\n",
       "      <th>age_level</th>\n",
       "      <th>occupation</th>\n",
       "    </tr>\n",
       "  </thead>\n",
       "  <tbody>\n",
       "    <tr>\n",
       "      <th>2</th>\n",
       "      <td>7958</td>\n",
       "      <td>85.0</td>\n",
       "      <td>2.0</td>\n",
       "      <td>5.0</td>\n",
       "      <td>0.0</td>\n",
       "    </tr>\n",
       "    <tr>\n",
       "      <th>3</th>\n",
       "      <td>7958</td>\n",
       "      <td>60.0</td>\n",
       "      <td>2.0</td>\n",
       "      <td>5.0</td>\n",
       "      <td>0.0</td>\n",
       "    </tr>\n",
       "  </tbody>\n",
       "</table>\n",
       "</div>"
      ],
      "text/plain": [
       "   cate_id  price  final_gender_code  age_level  occupation\n",
       "2     7958   85.0                2.0        5.0         0.0\n",
       "3     7958   60.0                2.0        5.0         0.0"
      ]
     },
     "execution_count": 131,
     "metadata": {},
     "output_type": "execute_result"
    }
   ],
   "source": [
    "test_df[['cate_id', 'price', 'final_gender_code', 'age_level', 'occupation']].head(2)"
   ]
  },
  {
   "cell_type": "code",
   "execution_count": 98,
   "metadata": {},
   "outputs": [
    {
     "name": "stdout",
     "output_type": "stream",
     "text": [
      "CPU times: user 38.5 ms, sys: 15.9 ms, total: 54.4 ms\n",
      "Wall time: 54.4 ms\n"
     ]
    }
   ],
   "source": [
    "%%time\n"
   ]
  },
  {
   "cell_type": "code",
   "execution_count": 134,
   "metadata": {},
   "outputs": [
    {
     "name": "stdout",
     "output_type": "stream",
     "text": [
      "CPU times: user 3.92 s, sys: 387 ms, total: 4.31 s\n",
      "Wall time: 4.36 s\n"
     ]
    }
   ],
   "source": [
    "%%time\n",
    "X =[]\n",
    "for r in train_df[['cate_id', 'price', 'final_gender_code', 'age_level', 'occupation']].itertuples():\n",
    "    X.append(list(r)[1:])\n",
    "Y = list(train_df['clk'])"
   ]
  },
  {
   "cell_type": "code",
   "execution_count": 135,
   "metadata": {},
   "outputs": [
    {
     "data": {
      "text/plain": [
       "1221309"
      ]
     },
     "execution_count": 135,
     "metadata": {},
     "output_type": "execute_result"
    }
   ],
   "source": [
    "len(X)"
   ]
  },
  {
   "cell_type": "code",
   "execution_count": 103,
   "metadata": {},
   "outputs": [
    {
     "data": {
      "text/plain": [
       "1296045"
      ]
     },
     "execution_count": 103,
     "metadata": {},
     "output_type": "execute_result"
    }
   ],
   "source": [
    "len(Y)"
   ]
  },
  {
   "cell_type": "code",
   "execution_count": 112,
   "metadata": {},
   "outputs": [
    {
     "data": {
      "text/plain": [
       "1296045"
      ]
     },
     "execution_count": 112,
     "metadata": {},
     "output_type": "execute_result"
    }
   ],
   "source": [
    "len(train_X_df)"
   ]
  },
  {
   "cell_type": "code",
   "execution_count": 64,
   "metadata": {
    "collapsed": true
   },
   "outputs": [],
   "source": [
    "# X=[]\n",
    "\n",
    "# for row in temp.iterrows():\n",
    "#     index, data = row\n",
    "#     X.append(data.tolist())"
   ]
  },
  {
   "cell_type": "code",
   "execution_count": 128,
   "metadata": {
    "collapsed": true
   },
   "outputs": [],
   "source": [
    "temp = X[:5]"
   ]
  },
  {
   "cell_type": "code",
   "execution_count": 129,
   "metadata": {},
   "outputs": [
    {
     "data": {
      "text/plain": [
       "[[9025, 17.0, 1.0, 2.0, 0.0],\n",
       " [1626, 63.0, 2.0, 5.0, 0.0],\n",
       " [5239, 176.0, 2.0, 4.0, 0.0],\n",
       " [5239, 176.0, 2.0, 6.0, 0.0],\n",
       " [5239, 176.0, 2.0, 4.0, 0.0]]"
      ]
     },
     "execution_count": 129,
     "metadata": {},
     "output_type": "execute_result"
    }
   ],
   "source": [
    "temp"
   ]
  },
  {
   "cell_type": "code",
   "execution_count": 120,
   "metadata": {
    "collapsed": true
   },
   "outputs": [],
   "source": [
    "from sklearn.preprocessing import StandardScaler, OneHotEncoder\n",
    "from sklearn.decomposition import PCA\n",
    "from sklearn.ensemble import RandomForestClassifier, RandomForestRegressor\n",
    "from sklearn.pipeline import Pipeline\n",
    "from sklearn import svm, base"
   ]
  },
  {
   "cell_type": "code",
   "execution_count": 125,
   "metadata": {},
   "outputs": [
    {
     "data": {
      "text/plain": [
       "[[9025, 17.0, 1.0, 2.0, 0.0],\n",
       " [1626, 63.0, 2.0, 5.0, 0.0],\n",
       " [5239, 176.0, 2.0, 4.0, 0.0],\n",
       " [5239, 176.0, 2.0, 6.0, 0.0],\n",
       " [5239, 176.0, 2.0, 4.0, 0.0],\n",
       " [5239, 176.0, 1.0, 5.0, 0.0],\n",
       " [5239, 176.0, 2.0, 4.0, 0.0],\n",
       " [7211, 289.0, 2.0, 3.0, 0.0],\n",
       " [7211, 289.0, 2.0, 3.0, 0.0],\n",
       " [7211, 289.0, 2.0, 3.0, 0.0]]"
      ]
     },
     "execution_count": 125,
     "metadata": {},
     "output_type": "execute_result"
    }
   ],
   "source": [
    "\n",
    "\n",
    "X[:10]"
   ]
  },
  {
   "cell_type": "code",
   "execution_count": 85,
   "metadata": {},
   "outputs": [
    {
     "data": {
      "text/plain": [
       "array([[0.        , 0.        , 2.5       , 2.5       , 0.        ,\n",
       "        1.        , 0.24928294, 1.50755672],\n",
       "       [2.5       , 0.        , 0.        , 0.        , 2.5       ,\n",
       "        1.        , 0.92381325, 3.76889181],\n",
       "       [0.        , 2.04124145, 0.        , 0.        , 2.5       ,\n",
       "        1.        , 2.58081163, 3.01511345],\n",
       "       [0.        , 2.04124145, 0.        , 0.        , 2.5       ,\n",
       "        1.        , 2.58081163, 4.52267017],\n",
       "       [0.        , 2.04124145, 0.        , 0.        , 2.5       ,\n",
       "        1.        , 2.58081163, 3.01511345]])"
      ]
     },
     "execution_count": 85,
     "metadata": {},
     "output_type": "execute_result"
    }
   ],
   "source": [
    "StandardScaler(with_mean=False).fit_transform(enc.fit_transform(temp)).toarray()"
   ]
  },
  {
   "cell_type": "code",
   "execution_count": 136,
   "metadata": {
    "collapsed": true
   },
   "outputs": [],
   "source": [
    "enc = OneHotEncoder(categorical_features=[True,False,True,False, True])\n",
    "X1  = enc.fit_transform(X)\n",
    "X2 = StandardScaler(with_mean=False).fit_transform(X1) "
   ]
  },
  {
   "cell_type": "code",
   "execution_count": null,
   "metadata": {
    "collapsed": true
   },
   "outputs": [],
   "source": [
    "RandomForestRegressor.fit(X2, Y)"
   ]
  },
  {
   "cell_type": "code",
   "execution_count": null,
   "metadata": {
    "collapsed": true
   },
   "outputs": [],
   "source": [
    "svm.LinearSVC().fit(X2, Y)"
   ]
  },
  {
   "cell_type": "code",
   "execution_count": null,
   "metadata": {
    "collapsed": true
   },
   "outputs": [],
   "source": [
    "pipe = Pipeline([\n",
    "  ('standard',StandardScaler()), \n",
    "    ('select', ColumnSelector([0,1,2,3,5,9,10,11,12,15,16,17,19,20])),# 0,1,2,3,5,9,10,11,12,15,16,17,19,20\n",
    "#   ('PCA', PCA(n_components = 13) ), \n",
    "   (\"est\", svm.LinearSVC() )#\n",
    "#     (\"est\", RandomForestClassifier(max_depth=4))\n",
    "])"
   ]
  },
  {
   "cell_type": "code",
   "execution_count": 42,
   "metadata": {},
   "outputs": [
    {
     "data": {
      "text/plain": [
       "array([[  1.,   0.,   0.,   0.,   1.,   1., 171.,   4.]])"
      ]
     },
     "execution_count": 42,
     "metadata": {},
     "output_type": "execute_result"
    }
   ],
   "source": [
    "enc.transform([[1626.0, 171.0, 2.0, 4.0, 0.0]]).toarray()"
   ]
  },
  {
   "cell_type": "code",
   "execution_count": null,
   "metadata": {
    "collapsed": true
   },
   "outputs": [],
   "source": []
  }
 ],
 "metadata": {
  "kernelspec": {
   "display_name": "Python 3",
   "language": "python",
   "name": "python3"
  },
  "language_info": {
   "codemirror_mode": {
    "name": "ipython",
    "version": 3
   },
   "file_extension": ".py",
   "mimetype": "text/x-python",
   "name": "python",
   "nbconvert_exporter": "python",
   "pygments_lexer": "ipython3",
   "version": "3.5.3"
  }
 },
 "nbformat": 4,
 "nbformat_minor": 2
}
